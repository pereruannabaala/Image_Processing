{
  "nbformat": 4,
  "nbformat_minor": 0,
  "metadata": {
    "colab": {
      "provenance": [],
      "authorship_tag": "ABX9TyP2metV4axr5IHXwZ5UDDSS",
      "include_colab_link": true
    },
    "kernelspec": {
      "name": "python3",
      "display_name": "Python 3"
    },
    "language_info": {
      "name": "python"
    }
  },
  "cells": [
    {
      "cell_type": "markdown",
      "metadata": {
        "id": "view-in-github",
        "colab_type": "text"
      },
      "source": [
        "<a href=\"https://colab.research.google.com/github/pereruannabaala/Image_Processing/blob/main/image_processing.ipynb\" target=\"_parent\"><img src=\"https://colab.research.google.com/assets/colab-badge.svg\" alt=\"Open In Colab\"/></a>"
      ]
    },
    {
      "cell_type": "code",
      "execution_count": null,
      "metadata": {
        "colab": {
          "base_uri": "https://localhost:8080/"
        },
        "id": "4gXJbSbYERgB",
        "outputId": "fe9ec2c0-6705-4918-c55c-b347f7207a33"
      },
      "outputs": [
        {
          "output_type": "stream",
          "name": "stdout",
          "text": [
            "Hello\n",
            "Hello again!\n"
          ]
        }
      ],
      "source": [
        "print(\"Hello\"); print(\"Hello again!\")"
      ]
    },
    {
      "cell_type": "code",
      "source": [
        "import os\n",
        "import cv2\n",
        "import numpy as np\n",
        "import matplotlib.pyplot as plt\n",
        "\n",
        "from zipfile import ZipFile\n",
        "from urllib.request import urlretrieve\n",
        "\n",
        "from IPython.display import Image\n",
        "\n",
        "%matplotlib inline\n",
        "\n",
        "def download_and_unzip(url, save_path):\n",
        "    print(f\"Downloading and extracting assests....\", end=\"\")\n",
        "\n",
        "    # Downloading zip file using urllib package.\n",
        "    urlretrieve(url, save_path)\n",
        "\n",
        "    try:\n",
        "        # Extracting zip file using the zipfile package.\n",
        "        with ZipFile(save_path) as z:\n",
        "            # Extract ZIP file contents in the same directory.\n",
        "            z.extractall(os.path.split(save_path)[0])\n",
        "\n",
        "        print(\"Done\")\n",
        "\n",
        "    except Exception as e:\n",
        "        print(\"\\nInvalid file.\", e)\n",
        "\n",
        "URL = r\"https://www.dropbox.com/s/qhhlqcica1nvtaw/opencv_bootcamp_assets_NB1.zip?dl=1\"\n",
        "\n",
        "asset_zip_path = os.path.join(os.getcwd(), f\"opencv_bootcamp_assets_NB1.zip\")\n",
        "\n",
        "# Download if assest ZIP does not exists.\n",
        "if not os.path.exists(asset_zip_path):\n",
        "    download_and_unzip(URL, asset_zip_path)"
      ],
      "metadata": {
        "colab": {
          "base_uri": "https://localhost:8080/"
        },
        "id": "IuE4ehiaErwk",
        "outputId": "c751cd0c-c0fc-41e5-dba3-82c7628338ed"
      },
      "execution_count": null,
      "outputs": [
        {
          "output_type": "stream",
          "name": "stdout",
          "text": [
            "Downloading and extracting assests....Done\n"
          ]
        }
      ]
    },
    {
      "cell_type": "code",
      "source": [
        "# Display 18x18 pixel image\n",
        "Image(filename=\"checkerboard_18x18.png\")"
      ],
      "metadata": {
        "colab": {
          "base_uri": "https://localhost:8080/",
          "height": 35
        },
        "id": "UnlmxhbLJtt0",
        "outputId": "95d71a8c-d3ba-49cb-c993-523c70ccb43d"
      },
      "execution_count": 6,
      "outputs": [
        {
          "output_type": "execute_result",
          "data": {
            "image/png": "[encoded data removed]",
            "text/plain": [
              "<IPython.core.display.Image object>"
            ]
          },
          "metadata": {},
          "execution_count": 6
        }
      ]
    },
    {
      "cell_type": "code",
      "source": [
        "# Display 84x84 pixel image\n",
        "Image(filename=\"checkerboard_84x84.jpg\")"
      ],
      "metadata": {
        "colab": {
          "base_uri": "https://localhost:8080/",
          "height": 101
        },
        "id": "10OHMYgxKQ2c",
        "outputId": "bffcae1f-3893-4308-e33a-c5f6699ebf94"
      },
      "execution_count": 7,
      "outputs": [
        {
          "output_type": "execute_result",
          "data": {
            "image/jpeg": "[encoded data removed]",
            "text/plain": [
              "<IPython.core.display.Image object>"
            ]
          },
          "metadata": {},
          "execution_count": 7
        }
      ]
    },
    {
      "cell_type": "code",
      "source": [
        "# Read image as gray scale\n",
        "cb_img = cv2.imread(\"checkerboard_18x18.png\",0)\n",
        "\n",
        "# Print the image data (pixel values), element of a 2D numpy array\n",
        "# Each pixel value is a 8-bits [0,255]\n",
        "print(cb_img)"
      ],
      "metadata": {
        "colab": {
          "base_uri": "https://localhost:8080/"
        },
        "id": "R68FG1Z8MHm1",
        "outputId": "e16a8332-ae66-461a-a4f8-a22d1118ff16"
      },
      "execution_count": 8,
      "outputs": [
        {
          "output_type": "stream",
          "name": "stdout",
          "text": [
            "[[  0   0   0   0   0   0 255 255 255 255 255 255   0   0   0   0   0   0]\n",
            " [  0   0   0   0   0   0 255 255 255 255 255 255   0   0   0   0   0   0]\n",
            " [  0   0   0   0   0   0 255 255 255 255 255 255   0   0   0   0   0   0]\n",
            " [  0   0   0   0   0   0 255 255 255 255 255 255   0   0   0   0   0   0]\n",
            " [  0   0   0   0   0   0 255 255 255 255 255 255   0   0   0   0   0   0]\n",
            " [  0   0   0   0   0   0 255 255 255 255 255 255   0   0   0   0   0   0]\n",
            " [255 255 255 255 255 255   0   0   0   0   0   0 255 255 255 255 255 255]\n",
            " [255 255 255 255 255 255   0   0   0   0   0   0 255 255 255 255 255 255]\n",
            " [255 255 255 255 255 255   0   0   0   0   0   0 255 255 255 255 255 255]\n",
            " [255 255 255 255 255 255   0   0   0   0   0   0 255 255 255 255 255 255]\n",
            " [255 255 255 255 255 255   0   0   0   0   0   0 255 255 255 255 255 255]\n",
            " [255 255 255 255 255 255   0   0   0   0   0   0 255 255 255 255 255 255]\n",
            " [  0   0   0   0   0   0 255 255 255 255 255 255   0   0   0   0   0   0]\n",
            " [  0   0   0   0   0   0 255 255 255 255 255 255   0   0   0   0   0   0]\n",
            " [  0   0   0   0   0   0 255 255 255 255 255 255   0   0   0   0   0   0]\n",
            " [  0   0   0   0   0   0 255 255 255 255 255 255   0   0   0   0   0   0]\n",
            " [  0   0   0   0   0   0 255 255 255 255 255 255   0   0   0   0   0   0]\n",
            " [  0   0   0   0   0   0 255 255 255 255 255 255   0   0   0   0   0   0]]\n"
          ]
        }
      ]
    },
    {
      "cell_type": "code",
      "source": [],
      "metadata": {
        "id": "q-4Nb5o4I92O"
      },
      "execution_count": null,
      "outputs": []
    },
    {
      "cell_type": "code",
      "source": [
        "# Display Image attributes\n",
        "\n",
        "# print the size of image\n",
        "print(\"Image size (H, W) is :\", cb_img.shape)\n",
        "\n",
        "# print data type of image\n",
        "print(\"Data type of image is:\", cb_img.dtype)"
      ],
      "metadata": {
        "colab": {
          "base_uri": "https://localhost:8080/"
        },
        "id": "Bps4p7sXHrT3",
        "outputId": "31afa8ef-81d7-4533-da08-f7c9b738bdd4"
      },
      "execution_count": 10,
      "outputs": [
        {
          "output_type": "stream",
          "name": "stdout",
          "text": [
            "Image size (H, W) is : (18, 18)\n",
            "Data type of image is: uint8\n"
          ]
        }
      ]
    },
    {
      "cell_type": "code",
      "source": [
        "# Display Images using Matplotlib\n",
        "\n",
        "# Display image\n",
        "plt.imshow(cb_img)"
      ],
      "metadata": {
        "colab": {
          "base_uri": "https://localhost:8080/",
          "height": 447
        },
        "id": "lLT29KY0Likb",
        "outputId": "cb866a8c-7c0b-43fe-a475-f13415d5f51e"
      },
      "execution_count": 11,
      "outputs": [
        {
          "output_type": "execute_result",
          "data": {
            "text/plain": [
              "<matplotlib.image.AxesImage at 0x79e673248410>"
            ]
          },
          "metadata": {},
          "execution_count": 11
        },
        {
          "output_type": "display_data",
          "data": {
            "text/plain": [
              "<Figure size 640x480 with 1 Axes>"
            ],
            "image/png": "[encoded data removed]"
          },
          "metadata": {}
        }
      ]
    },
    {
      "cell_type": "code",
      "source": [
        "# Set color map to gray scale for proper rendering\n",
        "plt.imshow(cb_img, cmap=\"gray\")"
      ],
      "metadata": {
        "colab": {
          "base_uri": "https://localhost:8080/",
          "height": 447
        },
        "id": "puSg3q35L81-",
        "outputId": "f2fcef1c-ce06-4ee4-cf5a-54301b985d08"
      },
      "execution_count": 13,
      "outputs": [
        {
          "output_type": "execute_result",
          "data": {
            "text/plain": [
              "<matplotlib.image.AxesImage at 0x79e63c8d9610>"
            ]
          },
          "metadata": {},
          "execution_count": 13
        },
        {
          "output_type": "display_data",
          "data": {
            "text/plain": [
              "<Figure size 640x480 with 1 Axes>"
            ],
            "image/png": "[encoded data removed]"
          },
          "metadata": {}
        }
      ]
    },
    {
      "cell_type": "code",
      "source": [
        "# Read image as gray scale\n",
        "cb_img_fuzzy = cv2.imread(\"checkerboard_fuzzy_18x18.jpg\", 0)\n",
        "\n",
        "# Print image\n",
        "print(cb_img_fuzzy)\n",
        "\n",
        "# Display image\n",
        "plt.imshow(cb_img_fuzzy, cmap=\"gray\")"
      ],
      "metadata": {
        "colab": {
          "base_uri": "https://localhost:8080/",
          "height": 760
        },
        "id": "iVTq3KXTNjEe",
        "outputId": "be7f53a5-236d-4867-94e2-989e440b98b1"
      },
      "execution_count": 16,
      "outputs": [
        {
          "output_type": "stream",
          "name": "stdout",
          "text": [
            "[[  0   0  15  20   1 134 233 253 253 253 255 229 130   1  29   2   0   0]\n",
            " [  0   1   5  18   0 137 232 255 254 247 255 228 129   0  24   2   0   0]\n",
            " [  7   5   2  28   2 139 230 254 255 249 255 226 128   0  27   3   2   2]\n",
            " [ 25  27  28  38   0 129 236 255 253 249 251 227 129   0  36  27  27  27]\n",
            " [  2   0   0   4   2 130 239 254 254 254 255 230 126   0   4   2   0   0]\n",
            " [132 129 131 124 121 163 211 226 227 225 226 203 164 125 125 129 131 131]\n",
            " [234 227 230 229 232 205 151 115 125 124 117 156 205 232 229 225 228 228]\n",
            " [254 255 255 251 255 222 102   1   0   0   0 120 225 255 254 255 255 255]\n",
            " [254 255 254 255 253 225 104   0  50  46   0 120 233 254 247 253 251 253]\n",
            " [252 250 250 253 254 223 105   2  45  50   0 127 223 255 251 255 251 253]\n",
            " [254 255 255 252 255 226 104   0   1   1   0 120 229 255 255 254 255 255]\n",
            " [233 235 231 233 234 207 142 106 108 102 108 146 207 235 237 232 231 231]\n",
            " [132 132 131 132 130 175 207 223 224 224 224 210 165 134 130 136 134 134]\n",
            " [  1   1   3   0   0 129 238 255 254 252 255 233 126   0   0   0   0   0]\n",
            " [ 20  19  30  40   5 130 236 253 252 249 255 224 129   0  39  23  21  21]\n",
            " [ 12   6   7  27   0 131 234 255 254 250 254 230 123   1  28   5  10  10]\n",
            " [  0   0   9  22   1 133 233 255 253 253 254 230 129   1  26   2   0   0]\n",
            " [  0   0   9  22   1 132 233 255 253 253 254 230 129   1  26   2   0   0]]\n"
          ]
        },
        {
          "output_type": "execute_result",
          "data": {
            "text/plain": [
              "<matplotlib.image.AxesImage at 0x79e63c8f6a10>"
            ]
          },
          "metadata": {},
          "execution_count": 16
        },
        {
          "output_type": "display_data",
          "data": {
            "text/plain": [
              "<Figure size 640x480 with 1 Axes>"
            ],
            "image/png": "[encoded data removed]"
          },
          "metadata": {}
        }
      ]
    },
    {
      "cell_type": "code",
      "source": [],
      "metadata": {
        "id": "78EYM2ltOce2"
      },
      "execution_count": null,
      "outputs": []
    }
  ]
}